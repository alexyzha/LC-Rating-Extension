{
 "cells": [
  {
   "cell_type": "code",
   "execution_count": 1,
   "id": "c8a2b6c4",
   "metadata": {},
   "outputs": [],
   "source": [
    "import pandas as pd\n",
    "import numpy as np"
   ]
  },
  {
   "cell_type": "code",
   "execution_count": 14,
   "id": "d389ce2c",
   "metadata": {},
   "outputs": [],
   "source": [
    "data = []\n",
    "with open (\"ratings.txt\",'r') as file:    \n",
    "    for line in file:\n",
    "        cur = list(line.split(\"\\t\"))\n",
    "        if cur[6][1] != \"r\":\n",
    "            data.append([cur[4],cur[0][0:4]])"
   ]
  },
  {
   "cell_type": "code",
   "execution_count": 16,
   "id": "28bc518b",
   "metadata": {},
   "outputs": [],
   "source": [
    "with open(\"slug-json.txt\",\"w\") as outfile:\n",
    "    for line in data:\n",
    "        outfile.write(f'\"{line[0]}\": {line[1]},\\n')"
   ]
  }
 ],
 "metadata": {
  "kernelspec": {
   "display_name": "Python 3 (ipykernel)",
   "language": "python",
   "name": "python3"
  },
  "language_info": {
   "codemirror_mode": {
    "name": "ipython",
    "version": 3
   },
   "file_extension": ".py",
   "mimetype": "text/x-python",
   "name": "python",
   "nbconvert_exporter": "python",
   "pygments_lexer": "ipython3",
   "version": "3.11.4"
  }
 },
 "nbformat": 4,
 "nbformat_minor": 5
}
